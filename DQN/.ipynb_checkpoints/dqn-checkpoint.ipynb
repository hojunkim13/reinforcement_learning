{
 "cells": [
  {
   "cell_type": "markdown",
   "metadata": {
    "colab_type": "text",
    "id": "ySGWc26W2cu4"
   },
   "source": [
    "# Deep Q-Network (DQN)"
   ]
  },
  {
   "cell_type": "markdown",
   "metadata": {
    "colab_type": "text",
    "id": "4rXEFCQR2cAC"
   },
   "source": [
    "It will be implemented a DQN agent with OpenAI Gym's LunarLander-v2 environment"
   ]
  },
  {
   "cell_type": "markdown",
   "metadata": {},
   "source": [
    "## LunarLander-v2\n",
    "\n",
    "https://github.com/openai/gym/blob/master/gym/envs/box2d/lunar_lander.py\n",
    "\n",
    "Created by Oleg Klimov. Licensed on the same terms as the rest of OpenAI Gym.\n",
    "\n",
    "Rocket trajectory optimization is a classic topic in Optimal Control.\n",
    "\n",
    "According to Pontryagin's maximum principle it's optimal to fire engine full throttle or turn it off. \n",
    "\n",
    "That's the reason this environment is OK to have discreet actions (engine on or off).\n",
    "\n",
    "To understand LunarLander\n",
    "- Landing pad is always at coordinates (0,0). \n",
    "- The coordinates are the first two numbers in the state vector. \n",
    "- Reward for moving from the top of the screen to landing pad and zero speed is about 100..140 points. \n",
    "- If lander moves away from landing pad it loses reward back. \n",
    "- Episode finishes if the lander crashes or comes to rest, receiving additional -100 or +100 points. \n",
    "- Each leg with ground contact is +10 points.\n",
    "- Firing the main engine is -0.3 points each frame. \n",
    "- Firing the side engine is -0.03 points each frame.\n",
    "- Solved is 200 points.\n",
    "- Landing outside the landing pad is possible. \n",
    "- Fuel is infinite, so an agent can learn to fly and then land on its first attempt. \n",
    "\n",
    "Four discrete actions available: \n",
    "1. Do nothing.\n",
    "2. Fire left orientation engine.\n",
    "3. Fire main engine.\n",
    "4. Fire right orientation engine.\n",
    "\n",
    "Please see the source code for details.\n",
    "https://github.com/openai/gym/blob/master/gym/envs/box2d/lunar_lander.py\n",
    "- To see a heuristic landing, run: python gym/envs/box2d/lunar_lander.py\n",
    "- To play yourself, run: python examples/agents/keyboard_agent.py LunarLander-v2\n"
   ]
  },
  {
   "cell_type": "markdown",
   "metadata": {},
   "source": [
    "References:\n",
    "\n",
    "https://github.com/RMiftakhov/LunarLander-v2-drlnd\n",
    "    \n",
    "https://www.katnoria.com/nb_dqn_lunar/\n",
    "    \n",
    "https://drawar.github.io/blog/2019/05/12/lunar-lander-dqn.html\n",
    "    \n",
    "https://pytorch.org/tutorials/intermediate/reinforcement_q_learning.html"
   ]
  },
  {
   "cell_type": "markdown",
   "metadata": {},
   "source": [
    "### 1. Import the nacessary packages"
   ]
  },
  {
   "cell_type": "code",
   "execution_count": 3,
   "metadata": {},
   "outputs": [],
   "source": [
    "%matplotlib inline\n",
    "%config InlineBackend.figure_formmat = 'retina'"
   ]
  },
  {
   "cell_type": "code",
   "execution_count": 4,
   "metadata": {},
   "outputs": [],
   "source": [
    "import gym\n",
    "import random\n",
    "import torch\n",
    "import numpy as np\n",
    "from collections import deque\n",
    "import matplotlib.pyplot as plt"
   ]
  },
  {
   "cell_type": "markdown",
   "metadata": {},
   "source": [
    "### 2. instantiate the environmrnt and agent"
   ]
  },
  {
   "cell_type": "code",
   "execution_count": 5,
   "metadata": {},
   "outputs": [
    {
     "name": "stdout",
     "output_type": "stream",
     "text": [
      "State shape:  (8,)\n",
      "Nunber of actions:  4\n"
     ]
    }
   ],
   "source": [
    "env = gym.make('LunarLander-v2')\n",
    "env.seed(0)\n",
    "print('State shape: ', env.observation_space.shape)\n",
    "print('Nunber of actions: ', env.action_space.n)"
   ]
  },
  {
   "cell_type": "markdown",
   "metadata": {},
   "source": [
    "\n"
   ]
  }
 ],
 "metadata": {
  "colab": {
   "collapsed_sections": [],
   "name": "dqn.ipynb",
   "provenance": [],
   "toc_visible": true,
   "version": "0.3.2"
  },
  "kernelspec": {
   "display_name": "Python 3",
   "language": "python",
   "name": "python3"
  },
  "language_info": {
   "codemirror_mode": {
    "name": "ipython",
    "version": 3
   },
   "file_extension": ".py",
   "mimetype": "text/x-python",
   "name": "python",
   "nbconvert_exporter": "python",
   "pygments_lexer": "ipython3",
   "version": "3.7.6"
  }
 },
 "nbformat": 4,
 "nbformat_minor": 1
}
